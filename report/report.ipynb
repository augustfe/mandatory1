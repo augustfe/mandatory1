{
 "cells": [
  {
   "cell_type": "markdown",
   "metadata": {},
   "source": [
    "# Mandatory assignment 1 - MAT-MEK4270"
   ]
  },
  {
   "cell_type": "markdown",
   "metadata": {},
   "source": [
    "## 1.2.1 The Dirichlet problem"
   ]
  },
  {
   "cell_type": "markdown",
   "metadata": {},
   "source": [
    "The wave equation is given by\n",
    "$$\n",
    "    \\frac{\\partial^2 u}{\\partial t^2} = c^2 \\Delta u,\n",
    "    \\tag{1.2}\n",
    "$$\n",
    "where $\\Delta$ is the Laplace operator. The Dirichlet problem admits the solution\n",
    "$$\n",
    "    u(t, x, y) = \\sin(k_x x) \\sin(k_y y) \\cos(\\omega t).\n",
    "    \\tag{1.4}\n",
    "$$\n",
    "\n",
    "Find the dispersion coefficient $\\omega$ as a function of $c$, $k_x$ and $k_y$."
   ]
  },
  {
   "cell_type": "markdown",
   "metadata": {},
   "source": [
    "### Solution"
   ]
  },
  {
   "cell_type": "markdown",
   "metadata": {},
   "source": [
    "We begin by finding the second derivatives of $u$. As\n",
    "\\begin{align*}\n",
    "    \\frac{d^2}{dx^2} \\sin(a x) &= -a^2 \\sin(a x), \\\\\n",
    "    \\frac{d^2}{dx^2} \\cos(a x) &= -a^2 \\cos(a x),\n",
    "\\end{align*}\n",
    "we have\n",
    "\\begin{equation*}\n",
    "    \\frac{\\partial^2 u}{\\partial x^2} = -k_x^2 u, \\quad\n",
    "    \\frac{\\partial^2 u}{\\partial y^2} = -k_y^2 u, \\quad\n",
    "    \\frac{\\partial^2 u}{\\partial t^2} = -\\omega^2 u.\n",
    "\\end{equation*}\n",
    "\n",
    "Inserting these into the Eq. $(1.2)$ gives\n",
    "\\begin{align*}\n",
    "    -\\omega^2 u &= c^2 (-k_x^2 u - k_y^2 u), \\\\\n",
    "    \\omega^2 &= c^2 (k_x^2 + k_y^2).\n",
    "\\end{align*}\n",
    "Taking the principal square root, we find $\\omega = c \\sqrt{k_x^2 + k_y^2}$. With $k_x = k_y = k$, we have $\\omega = \\sqrt{2} c k$."
   ]
  },
  {
   "cell_type": "markdown",
   "metadata": {
    "vscode": {
     "languageId": "latex"
    }
   },
   "source": [
    "## 1.2.3 Exact solution\n"
   ]
  },
  {
   "cell_type": "markdown",
   "metadata": {},
   "source": [
    "\n",
    "The two stationary solutions to the wave equations are real and imaginary components of the waves\n",
    "\\begin{equation}\n",
    "    u(t, x, y) = e^{\\imath \\left( k_x x + k_y y - \\omega t \\right)}\n",
    "    \\tag{1.6}\n",
    "    % \\label{eq:one}\n",
    "\\end{equation}\n",
    "where the imaginary unit $\\imath = \\sqrt{-1}$. Show that Eq. $(1.6)$ satisfies the wave equation."
   ]
  },
  {
   "cell_type": "markdown",
   "metadata": {},
   "source": [
    "### Solution\n"
   ]
  },
  {
   "cell_type": "markdown",
   "metadata": {},
   "source": [
    "\n",
    "We begin by rewriting $(1.6)$, getting\n",
    "\\begin{equation}\n",
    "    u(t, x, y) = e^{\\imath \\left( k_x x + k_y y - \\omega t \\right)} = e^{\\imath k_x x} e^{\\imath k_y y} e^{-\\imath \\omega t}\n",
    "\\end{equation}\n",
    "The second derivatives are of $u$ are then\n",
    "\\begin{equation*}\n",
    "    \\frac{\\partial^2 u}{\\partial x^2} = (\\imath k_x)^2 u = -k_x^2 u, \\quad\n",
    "    \\frac{\\partial^2 u}{\\partial y^2} = (\\imath k_y)^2 u = -k_y^2 u, \\quad\n",
    "    \\frac{\\partial^2 u}{\\partial t^2} = (-\\imath \\omega)^2 u = -\\omega^2 u.\n",
    "\\end{equation*}\n",
    "Combining these with the equations at hand, we get\n",
    "\\begin{gather*}\n",
    "    \\frac{\\partial^2 u}{\\partial t^2} = c^2 \\Delta u = c^2 \\left( \\frac{\\partial^2 u}{\\partial x^2} + \\frac{\\partial^2 u}{\\partial y^2} \\right) \\\\\n",
    "    -\\omega^2 u = c^2 \\left( -k_x^2 u - k_y^2 u \\right) \\\\\n",
    "    \\omega^2 = c^2 \\left( k_x^2 + k_y^2 \\right)\n",
    "\\end{gather*}\n",
    "which satisfies the definition of $\\omega$. Thus, the wave equation is satisfied. Note that we are able to cancel out the $u$ terms in the equation, as the exponential is always non-zero."
   ]
  },
  {
   "cell_type": "markdown",
   "metadata": {},
   "source": [
    "## 1.2.4 Dispersion coefficient\n"
   ]
  },
  {
   "cell_type": "markdown",
   "metadata": {},
   "source": [
    "\n",
    "Assume that $ m_x = m_y $ such that $ k_x = k_y = k $. A discrete version of Eq. $(1.6)$ will then read\n",
    "\\begin{equation}\n",
    "    u_{ij}^n = e^{\\imath \\left( kh(i + j) - \\tilde{\\omega} n \\Delta t \\right)}\n",
    "    \\tag{1.7}\n",
    "\\end{equation}\n",
    "where $\\tilde{\\omega}$ is a numerical dispersion coefficient, i.e., the numerical approximation of the exact $\\omega$. Insert Eq. $(1.7)$ into the discretized Eq. $(1.3)$ and show that for CFL number $C = 1 / \\sqrt{2}$ we get $\\tilde{\\omega} = \\omega$."
   ]
  },
  {
   "cell_type": "markdown",
   "metadata": {},
   "source": [
    "### Solution\n"
   ]
  },
  {
   "cell_type": "markdown",
   "metadata": {},
   "source": [
    "\n",
    "Eq. $(1.3)$ is given by\n",
    "$$\n",
    "    \\frac{u_{i, j}^{n+1} - 2u_{i, j}^n + u_{i, j}^{n-1}}{\\Delta t^2}\n",
    "    = c^2 \\left(\n",
    "        \\frac{u_{i+1, j}^n - 2u_{i, j}^n+ u_{i-1, j}^n}{h^2}\n",
    "        + \\frac{u_{i, j+1}^n - 2u_{ij}^n + u_{i, j-1}^n}{h^2}\n",
    "    \\right).\n",
    "    \\tag{1.3}\n",
    "$$\n"
   ]
  },
  {
   "cell_type": "markdown",
   "metadata": {},
   "source": [
    "\n",
    "Inserting Eq. $(1.7)$ into the left hand side of Eq. $(1.3)$, we get\n",
    "\\begin{align*}\n",
    "    \\frac{u_{i, j}^{n+1} - 2u_{i, j}^n + u_{i, j}^{n-1}}{\\Delta t^2} &= e^{\\imath kh (i + j)} \\frac{ e^{-\\imath \\tilde{\\omega}(n+1) \\Delta t} - 2 e^{-\\imath \\tilde{\\omega}n \\Delta t} + e^{-\\imath \\tilde{\\omega}(n-1) \\Delta t}}{\\Delta t^2} \\\\\n",
    "    &= e^{\\imath (kh (i + j) - \\tilde{\\omega} n \\Delta t)} \\frac{ e^{-\\imath \\tilde{\\omega} \\Delta t} - 2 + e^{\\imath \\tilde{\\omega} \\Delta t}}{\\Delta t^2} \\\\\n",
    "\\end{align*}"
   ]
  },
  {
   "cell_type": "markdown",
   "metadata": {
    "vscode": {
     "languageId": "latex"
    }
   },
   "source": [
    "The first term on the right hand side of Eq. $(1.3)$ (and very similarly the second term) is\n",
    "\\begin{align*}\n",
    "    \\frac{u_{i+1, j}^n - 2u_{i, j}^n+ u_{i-1, j}^n}{h^2}\n",
    "    &= e^{-\\imath \\tilde{\\omega} n \\Delta t} \\frac{e^{\\imath k h (i+1 + j)} - 2 e^{\\imath k h (i + j)} + e^{\\imath k h (i-1 + j)}}{h^2} \\\\\n",
    "    &= e^{\\imath (kh (i + j) - \\tilde{\\omega} n \\Delta t)} \\frac{e^{\\imath k h} - 2 + e^{-\\imath k h}}{h^2} \n",
    "\\end{align*}"
   ]
  },
  {
   "cell_type": "markdown",
   "metadata": {},
   "source": [
    "Combining these, we get\n",
    "\\begin{align*}\n",
    "    \\frac{ e^{-\\imath \\tilde{\\omega} \\Delta t} - 2 + e^{\\imath \\tilde{\\omega} \\Delta t}}{\\Delta t^2} &= c^2 \\left( \\frac{e^{\\imath k h} - 2 + e^{-\\imath k h}}{h^2} + \\frac{e^{\\imath k h} - 2 + e^{-\\imath k h}}{h^2} \\right) \\\\\n",
    "    \\frac{ e^{-\\imath \\tilde{\\omega} \\Delta t} - 2 + e^{\\imath \\tilde{\\omega} \\Delta t}}{\\Delta t^2} &= 2c^2 \\left( \\frac{e^{\\imath k h} - 2 + e^{-\\imath k h}}{h^2} \\right) \\\\\n",
    "    e^{-\\imath \\tilde{\\omega} \\Delta t} - 2 + e^{\\imath \\tilde{\\omega} \\Delta t} &= 2\\frac{c^2 \\Delta t^2}{h^2} \\left( e^{\\imath k h} - 2 + e^{-\\imath k h} \\right) \\\\\n",
    "    e^{-\\imath \\tilde{\\omega} \\Delta t} - 2 + e^{\\imath \\tilde{\\omega} \\Delta t} &= 2 C^2 \\left( e^{\\imath k h} - 2 + e^{-\\imath k h} \\right) \\\\\n",
    "    2 \\cos(\\tilde{\\omega} \\Delta t) - 2 &= 2 C^2 \\left( 2 \\cos(k h) - 2 \\right) \\\\\n",
    "    \\cos(\\tilde{\\omega} \\Delta t) - 1 &= 2 C^2 \\left( \\cos(k h) - 1 \\right) \\\\\n",
    "    \\cos(\\tilde{\\omega} \\Delta t) &= 1 + 2 C^2 \\cos(k h) - 2 C^2\n",
    "\\end{align*}"
   ]
  },
  {
   "cell_type": "markdown",
   "metadata": {},
   "source": [
    "Which, with $C = 1 / \\sqrt{2}$, gives\n",
    "\\begin{equation*}\n",
    "    cos(\\tilde{\\omega} \\Delta t) = \\cos(k h)\n",
    "\\end{equation*}\n",
    "which has a trivial solution $\\tilde{\\omega} = \\frac{k h}{\\Delta t}$. With $C = 1 / \\sqrt{2}$, we also get\n",
    "\\begin{gather*}\n",
    "    \\frac{1}{\\sqrt{2}} = \\frac{c \\Delta t}{h} \\\\\n",
    "    h = \\sqrt{2} c \\Delta t\n",
    "\\end{gather*}\n",
    "such that\n",
    "\\begin{equation*}\n",
    "    \\tilde{\\omega} = \\frac{k h}{\\Delta t} = \\frac{k \\sqrt{2} c \\Delta t}{\\Delta t} = \\sqrt{2} k c = \\omega\n",
    "\\end{equation*}\n",
    "as desired."
   ]
  }
 ],
 "metadata": {
  "kernelspec": {
   "display_name": "matmek",
   "language": "python",
   "name": "python3"
  },
  "language_info": {
   "codemirror_mode": {
    "name": "ipython",
    "version": 3
   },
   "file_extension": ".py",
   "mimetype": "text/x-python",
   "name": "python",
   "nbconvert_exporter": "python",
   "pygments_lexer": "ipython3",
   "version": "3.12.4"
  }
 },
 "nbformat": 4,
 "nbformat_minor": 2
}
